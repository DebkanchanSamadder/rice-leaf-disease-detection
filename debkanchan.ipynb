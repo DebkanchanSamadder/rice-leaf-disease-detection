{
 "cells": [
  {
   "cell_type": "code",
   "execution_count": 22,
   "metadata": {},
   "outputs": [],
   "source": [
    "import tensorflow as tf\n",
    "from tensorflow import keras\n",
    "import cv2"
   ]
  },
  {
   "cell_type": "code",
   "execution_count": 23,
   "metadata": {},
   "outputs": [],
   "source": [
    "DATASET_DIR= \"./data\"\n",
    "EPOCHS = 15\n",
    "BATCH_SIZE = 32"
   ]
  },
  {
   "cell_type": "markdown",
   "metadata": {},
   "source": [
    "Import Dataset"
   ]
  },
  {
   "cell_type": "code",
   "execution_count": 30,
   "metadata": {},
   "outputs": [
    {
     "name": "stdout",
     "output_type": "stream",
     "text": [
      "Found 911 images belonging to 3 classes.\n"
     ]
    }
   ],
   "source": [
    "from keras.preprocessing.image import ImageDataGenerator\n",
    "\n",
    "train_datagen = ImageDataGenerator(\n",
    "  shear_range=0.2,\n",
    "  zoom_range=0.2,\n",
    "  horizontal_flip=True,\n",
    "  vertical_flip=True,\n",
    "  # validation_split=0.2\n",
    ")\n",
    "\n",
    "train_ds = train_datagen.flow_from_directory(\n",
    "  F\"{DATASET_DIR}/train\",\n",
    "  batch_size=BATCH_SIZE,\n",
    "  target_size=(128, 128),\n",
    "  # class_mode='categorical',\n",
    "  # subset='training'\n",
    ")"
   ]
  },
  {
   "cell_type": "code",
   "execution_count": 31,
   "metadata": {},
   "outputs": [
    {
     "name": "stdout",
     "output_type": "stream",
     "text": [
      "Found 219 images belonging to 3 classes.\n"
     ]
    }
   ],
   "source": [
    "val_datagen = ImageDataGenerator()\n",
    "\n",
    "val_ds = val_datagen.flow_from_directory(\n",
    "  F\"{DATASET_DIR}/valid\",\n",
    "  batch_size=BATCH_SIZE,\n",
    "  target_size=(128, 128),\n",
    "  # class_mode='categorical',\n",
    "  # subset='validation'\n",
    ")"
   ]
  },
  {
   "cell_type": "code",
   "execution_count": 33,
   "metadata": {},
   "outputs": [],
   "source": [
    "# AUTOTUNE = tf.data.AUTOTUNE\n",
    "\n",
    "# train_ds = train_ds.cache().shuffle(1000).prefetch(buffer_size=AUTOTUNE)\n",
    "# val_ds = val_ds.cache().prefetch(buffer_size=AUTOTUNE)"
   ]
  },
  {
   "cell_type": "markdown",
   "metadata": {},
   "source": [
    "Build The CNN"
   ]
  },
  {
   "cell_type": "code",
   "execution_count": 72,
   "metadata": {},
   "outputs": [
    {
     "name": "stdout",
     "output_type": "stream",
     "text": [
      "Model: \"sequential_18\"\n",
      "_________________________________________________________________\n",
      " Layer (type)                Output Shape              Param #   \n",
      "=================================================================\n",
      " rescaling_11 (Rescaling)    (None, None, None, 3)     0         \n",
      "                                                                 \n",
      " conv2d_72 (Conv2D)          (None, None, None, 32)    896       \n",
      "                                                                 \n",
      " max_pooling2d_38 (MaxPoolin  (None, None, None, 32)   0         \n",
      " g2D)                                                            \n",
      "                                                                 \n",
      " conv2d_73 (Conv2D)          (None, None, None, 64)    18496     \n",
      "                                                                 \n",
      " max_pooling2d_39 (MaxPoolin  (None, None, None, 64)   0         \n",
      " g2D)                                                            \n",
      "                                                                 \n",
      " conv2d_74 (Conv2D)          (None, None, None, 128)   73856     \n",
      "                                                                 \n",
      " max_pooling2d_40 (MaxPoolin  (None, None, None, 128)  0         \n",
      " g2D)                                                            \n",
      "                                                                 \n",
      " conv2d_75 (Conv2D)          (None, None, None, 128)   147584    \n",
      "                                                                 \n",
      " global_average_pooling2d_17  (None, 128)              0         \n",
      "  (GlobalAveragePooling2D)                                       \n",
      "                                                                 \n",
      " dense_36 (Dense)            (None, 128)               16512     \n",
      "                                                                 \n",
      " dense_37 (Dense)            (None, 3)                 387       \n",
      "                                                                 \n",
      "=================================================================\n",
      "Total params: 257,731\n",
      "Trainable params: 257,731\n",
      "Non-trainable params: 0\n",
      "_________________________________________________________________\n"
     ]
    }
   ],
   "source": [
    "model = keras.models.Sequential([\n",
    "    keras.layers.Rescaling(1./255, input_shape=(None, None, 3)),\n",
    "    keras.layers.Conv2D(32, 3, activation=\"relu\", padding=\"same\"),\n",
    "\n",
    "    keras.layers.MaxPooling2D(),\n",
    "    keras.layers.Conv2D(64, 3, activation=\"relu\", padding=\"same\"),\n",
    "\n",
    "    keras.layers.MaxPooling2D(),\n",
    "    keras.layers.Conv2D(128, 3, activation=\"relu\", padding=\"same\"),\n",
    "\n",
    "    # keras.layers.Dropout(0.25),\n",
    "    keras.layers.MaxPooling2D(),\n",
    "    keras.layers.Conv2D(128, 3, activation=\"relu\", padding=\"same\"),\n",
    "\n",
    "    # keras.layers.Dropout(0.25),\n",
    "    keras.layers.GlobalAveragePooling2D(),\n",
    "    keras.layers.Dense(128, activation=\"relu\"),\n",
    "\n",
    "    keras.layers.Dense(3, activation=\"softmax\")\n",
    "])\n",
    "\n",
    "model.compile(\n",
    "    optimizer=keras.optimizers.Adam(),\n",
    "    loss=keras.losses.CategoricalCrossentropy(),\n",
    "    metrics=[keras.metrics.CategoricalAccuracy()],\n",
    ")\n",
    "\n",
    "model.summary()"
   ]
  },
  {
   "cell_type": "markdown",
   "metadata": {},
   "source": [
    "Training"
   ]
  },
  {
   "cell_type": "code",
   "execution_count": 73,
   "metadata": {},
   "outputs": [
    {
     "name": "stdout",
     "output_type": "stream",
     "text": [
      "Epoch 1/15\n",
      "29/29 [==============================] - 14s 479ms/step - loss: 1.0789 - categorical_accuracy: 0.3809 - val_loss: 0.9761 - val_categorical_accuracy: 0.5708\n",
      "Epoch 2/15\n",
      "29/29 [==============================] - 13s 463ms/step - loss: 0.9809 - categorical_accuracy: 0.4687 - val_loss: 0.8829 - val_categorical_accuracy: 0.6256\n",
      "Epoch 3/15\n",
      "29/29 [==============================] - 13s 455ms/step - loss: 0.8460 - categorical_accuracy: 0.6224 - val_loss: 0.7769 - val_categorical_accuracy: 0.6895\n",
      "Epoch 4/15\n",
      "29/29 [==============================] - 14s 477ms/step - loss: 0.8354 - categorical_accuracy: 0.5939 - val_loss: 0.9519 - val_categorical_accuracy: 0.5388\n",
      "Epoch 5/15\n",
      "29/29 [==============================] - 13s 462ms/step - loss: 0.8409 - categorical_accuracy: 0.6180 - val_loss: 0.7260 - val_categorical_accuracy: 0.6849\n",
      "Epoch 6/15\n",
      "29/29 [==============================] - 13s 457ms/step - loss: 0.7492 - categorical_accuracy: 0.6685 - val_loss: 0.6185 - val_categorical_accuracy: 0.7169\n",
      "Epoch 7/15\n",
      "29/29 [==============================] - 14s 471ms/step - loss: 0.7442 - categorical_accuracy: 0.6411 - val_loss: 0.8815 - val_categorical_accuracy: 0.5845\n",
      "Epoch 8/15\n",
      "29/29 [==============================] - 13s 459ms/step - loss: 0.7350 - categorical_accuracy: 0.6707 - val_loss: 0.7866 - val_categorical_accuracy: 0.6941\n",
      "Epoch 9/15\n",
      "29/29 [==============================] - 13s 464ms/step - loss: 0.6473 - categorical_accuracy: 0.7069 - val_loss: 0.7224 - val_categorical_accuracy: 0.7123\n",
      "Epoch 10/15\n",
      "29/29 [==============================] - 14s 477ms/step - loss: 0.5821 - categorical_accuracy: 0.7398 - val_loss: 0.8513 - val_categorical_accuracy: 0.7352\n",
      "Epoch 11/15\n",
      "29/29 [==============================] - 14s 469ms/step - loss: 0.5508 - categorical_accuracy: 0.7552 - val_loss: 0.8174 - val_categorical_accuracy: 0.7397\n",
      "Epoch 12/15\n",
      "29/29 [==============================] - 13s 454ms/step - loss: 0.4973 - categorical_accuracy: 0.7903 - val_loss: 0.5094 - val_categorical_accuracy: 0.7534\n",
      "Epoch 13/15\n",
      "29/29 [==============================] - 14s 471ms/step - loss: 0.4043 - categorical_accuracy: 0.8200 - val_loss: 0.6399 - val_categorical_accuracy: 0.7808\n",
      "Epoch 14/15\n",
      "29/29 [==============================] - 14s 472ms/step - loss: 0.4460 - categorical_accuracy: 0.8123 - val_loss: 1.8221 - val_categorical_accuracy: 0.5205\n",
      "Epoch 15/15\n",
      "29/29 [==============================] - 14s 469ms/step - loss: 0.5196 - categorical_accuracy: 0.7816 - val_loss: 0.6420 - val_categorical_accuracy: 0.8311\n"
     ]
    }
   ],
   "source": [
    "history = model.fit(\n",
    "    train_ds,\n",
    "    validation_data=val_ds,\n",
    "    epochs=EPOCHS,\n",
    "    # steps_per_epoch=train_ds.samples/train_ds.batch_size,\n",
    "    batch_size=BATCH_SIZE,\n",
    "    # validation_steps=validation_ds.samples/validation_ds.batch_size\n",
    ")"
   ]
  },
  {
   "cell_type": "code",
   "execution_count": 74,
   "metadata": {},
   "outputs": [
    {
     "data": {
      "image/png": "[encoded data removed]",
      "text/plain": [
       "<Figure size 1152x576 with 2 Axes>"
      ]
     },
     "metadata": {
      "needs_background": "light"
     },
     "output_type": "display_data"
    }
   ],
   "source": [
    "from matplotlib import pyplot as plt\n",
    "\n",
    "acc = history.history[\"categorical_accuracy\"]\n",
    "val_acc = history.history[\"val_categorical_accuracy\"]\n",
    "loss = history.history[\"loss\"]\n",
    "val_loss = history.history[\"val_loss\"]\n",
    "epochs = range(1, len(acc) + 1)\n",
    "\n",
    "# Train and validation accuracy\n",
    "plt.figure(figsize=(16, 8))\n",
    "plt.subplot(1, 2, 1)\n",
    "plt.plot(epochs, acc, \"b\", label=\"Training accurarcy\")\n",
    "plt.plot(epochs, val_acc, \"r\", label=\"Validation accurarcy\")\n",
    "plt.title(\"Training and Validation accurarcy\")\n",
    "plt.legend()\n",
    "\n",
    "# Train and validation loss\n",
    "plt.subplot(1, 2, 2)\n",
    "plt.plot(epochs, loss, \"b\", label=\"Training loss\")\n",
    "plt.plot(epochs, val_loss, \"r\", label=\"Validation loss\")\n",
    "plt.title(\"Training and Validation loss\")\n",
    "plt.legend()\n",
    "plt.show()"
   ]
  },
  {
   "cell_type": "markdown",
   "metadata": {},
   "source": [
    "Prediction"
   ]
  },
  {
   "cell_type": "code",
   "execution_count": 75,
   "metadata": {},
   "outputs": [
    {
     "name": "stdout",
     "output_type": "stream",
     "text": [
      "{'Bacterial leaf blight': 0, 'Brown spot': 1, 'Leaf smut': 2}\n"
     ]
    }
   ],
   "source": [
    "print(train_ds.class_indices)"
   ]
  },
  {
   "cell_type": "code",
   "execution_count": 76,
   "metadata": {},
   "outputs": [
    {
     "name": "stdout",
     "output_type": "stream",
     "text": [
      "1/1 [==============================] - 0s 302ms/step\n",
      "tf.Tensor([24.524698 28.99977  46.47554 ], shape=(3,), dtype=float32)\n"
     ]
    }
   ],
   "source": [
    "import numpy as np\n",
    "\n",
    "img = keras.utils.load_img(\n",
    "  f\"{DATASET_DIR}/test/Leaf smut/smut-_0_154.jpg\",\n",
    "  # target_size=(128, 128)\n",
    ")\n",
    "\n",
    "img_array = tf.keras.utils.img_to_array(img)\n",
    "img_array = tf.expand_dims(img_array, 0)\n",
    "\n",
    "predictions = model.predict(img_array)\n",
    "score = tf.nn.softmax(predictions[0])\n",
    "# class_names = train_ds.class_names\n",
    "print(\n",
    "    100*score\n",
    ")"
   ]
  }
 ],
 "metadata": {
  "kernelspec": {
   "display_name": "Python 3.9.12 ('tf')",
   "language": "python",
   "name": "python3"
  },
  "language_info": {
   "codemirror_mode": {
    "name": "ipython",
    "version": 3
   },
   "file_extension": ".py",
   "mimetype": "text/x-python",
   "name": "python",
   "nbconvert_exporter": "python",
   "pygments_lexer": "ipython3",
   "version": "3.9.12"
  },
  "orig_nbformat": 4,
  "vscode": {
   "interpreter": {
    "hash": "540e6c09fd446883b7b3a936ebf1b4129611f3813fddcb77f6664d9d73f64fe0"
   }
  }
 },
 "nbformat": 4,
 "nbformat_minor": 2
}
